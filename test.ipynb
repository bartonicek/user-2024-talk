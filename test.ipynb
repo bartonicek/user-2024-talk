{
  "cells": [
    {
      "cell_type": "raw",
      "metadata": {},
      "source": [
        "---\n",
        "title: \"Untitled\"\n",
        "format: revealjs\n",
        "---"
      ],
      "id": "724ef6c4"
    },
    {
      "cell_type": "markdown",
      "metadata": {},
      "source": [
        "## Quarto\n",
        "\n",
        "\n",
        "```{tikz}\n",
        "#| fig-dpi: 300\n",
        "\n",
        "\\usetikzlibrary{cd}\n",
        "\\begin{tikzcd}\n",
        "\t& A \\\\\n",
        "\t{A \\cup B} && {A \\cup B \\cup C} \\\\\n",
        "\t& {F(A)} \\\\\n",
        "\t{F(A \\cup B)} && {F(A \\cup B \\cup C)}\n",
        "\t\\arrow[\"{- \\cup B}\"', from=1-2, to=2-1]\n",
        "\t\\arrow[\"{- \\cup (B \\cup C)}\", from=1-2, to=2-3]\n",
        "\t\\arrow[dashed, from=1-2, to=3-2]\n",
        "\t\\arrow[\"{- \\cup C}\"', near start, from=2-1, to=2-3]\n",
        "\t\\arrow[dashed, from=2-1, to=4-1]\n",
        "\t\\arrow[dashed, from=2-3, to=4-3]\n",
        "\t\\arrow[\"{- \\otimes F(B)}\"', near start, from=3-2, to=4-1]\n",
        "\t\\arrow[\"{- \\otimes F(B \\cup C)}\", near start, from=3-2, to=4-3]\n",
        "\t\\arrow[\"{- \\otimes F(C)}\"', from=4-1, to=4-3]\n",
        "\\end{tikzcd}\n",
        "```"
      ],
      "id": "c2191dcf"
    }
  ],
  "metadata": {
    "kernelspec": {
      "name": "python3",
      "language": "python",
      "display_name": "Python 3"
    }
  },
  "nbformat": 4,
  "nbformat_minor": 5
}